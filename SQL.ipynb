{
  "nbformat": 4,
  "nbformat_minor": 0,
  "metadata": {
    "colab": {
      "provenance": []
    },
    "kernelspec": {
      "name": "python3",
      "display_name": "Python 3"
    },
    "language_info": {
      "name": "python"
    }
  },
  "cells": [
    {
      "cell_type": "markdown",
      "source": [
        "1. Create a table called employees with the following structure\n",
        " emp_id (integer, should not be NULL and should be a primary key)\n",
        " emp_name (text, should not be NULL)\n",
        " age (integer, should have a check constraint to ensure the age is at least 18)\n",
        " email (text, should be unique for each employee)\n",
        " salary (decimal, with a default value of 30,000).\n",
        " Write the SQL query to create the above table with all constraints."
      ],
      "metadata": {
        "id": "plPGxn5xuifz"
      }
    },
    {
      "cell_type": "markdown",
      "source": [
        "```sql\n",
        "create database employee;\n",
        "use employee;\n",
        "create table employees(\n",
        "\temp_id int primary key not null,\n",
        "    emp_name text not null,\n",
        "    age int check(age >= 18),\n",
        "    email varchar(100) unique,\n",
        "    salary decimal(10,2) default 30000\n",
        ")\n",
        "\n",
        "select * from employee;\n"
      ],
      "metadata": {
        "id": "jhMMvDCzuXfT"
      }
    },
    {
      "cell_type": "markdown",
      "source": [
        "2. Explain the purpose of constraints and how they help maintain data integrity in a database. Provide\n",
        "examples of common types of constraints\n",
        "- Constraints are rules applied to table columns in a database to ensure the accuracy, validity, and reliability of the data.\n",
        "They help maintain data integrity by restricting the type of data that can be stored in a table.\n",
        "```sql\n",
        "create table employees(\n",
        "    emp_id int primary key not null,\n",
        "    emp_name text not null,\n",
        "    age int check(age >= 18),\n",
        "    email varchar(100) unique,\n",
        "    salary decimal(10,2) default 30000\n",
        ")\n"
      ],
      "metadata": {
        "id": "nCGzDdlpvHjb"
      }
    },
    {
      "cell_type": "markdown",
      "source": [
        "  3.Why would you apply the NOT NULL constraint to a column? Can a primary key contain NULL values? Justify\n",
        "  your answer\n",
        "  - to ensure the field is not left empty or you can say it is a compulsury field to fill up.\n",
        "  - no primary key can't store null values because it uniquely identifies the records and it helps to identify unique rows and create foriegn key thats why it can contain null values."
      ],
      "metadata": {
        "id": "jM0cS6DNv9Wq"
      }
    },
    {
      "cell_type": "markdown",
      "source": [
        " 4. Explain the steps and SQL commands used to add or remove constraints on an existing table. Provide an\n",
        "example for both adding and removing a constraint\n",
        "- adding :\n",
        "```sql\n",
        "ALTER TABLE employees\n",
        "ADD CONSTRAINT unique_email UNIQUE (email);\n",
        "```\n",
        "- remove :\n",
        "```sql\n",
        "ALTER TABLE employees\n",
        "DROP INDEX unique_email;\n",
        "```\n"
      ],
      "metadata": {
        "id": "BRR0zdhoxDaS"
      }
    },
    {
      "cell_type": "markdown",
      "source": [
        "5. Explain the consequences of attempting to insert, update, or delete data in a way that violates constraints.\n",
        "Provide an example of an error message that might occur when violating a constraint\n",
        "- it will throw errors  \n",
        "```sql\n",
        "INSERT INTO employees (emp_id, emp_name, age, email)\n",
        "VALUES (2, 'Alice', 16, 'alice@example.com');\n",
        "```\n",
        "- Error Code: 3819. Check constraint 'employee_chk_1' is violated.\t0.015 sec"
      ],
      "metadata": {
        "id": "DefNlv7_yYDG"
      }
    },
    {
      "cell_type": "markdown",
      "source": [
        " 6. You created a products table without constraints as follows:\n",
        " CREATE TABLE products (\n",
        " product_id INT,\n",
        " product_name VARCHAR(50),\n",
        " price DECIMAL(10, 2));\n",
        " Now, you realise that\n",
        " The product_id should be a primary key\n",
        " The price should have a default value of 50.00\n",
        " - changing the product_id = ALTER TABLE employees ADD CONSTRAINT pk_product PRIMARY KEY (product_id);\n",
        " - setting default values = ALTER TABLE employees MODIFY price DECIMAL(10,2) DEFAULT 50.00;"
      ],
      "metadata": {
        "id": "TzJKhHtSzGnz"
      }
    },
    {
      "cell_type": "markdown",
      "source": [
        "  7.Write a query to fetch the student_name and class_name for each student using an INNER JOIN\n",
        "```sql\n",
        "select student_name , class_name from Students s inner join Classes c on s.class_id = c.class_id;"
      ],
      "metadata": {
        "id": "Y02jBFxz0HOb"
      }
    },
    {
      "cell_type": "markdown",
      "source": [
        "8. Write a query that shows all order_id, customer_name, and product_name, ensuring that all products are\n",
        "listed even if they are not associated with an order\n",
        "Hint: (use INNER JOIN and LEFT JOIN\n",
        "``` sql\n",
        "SELECT\n",
        "    o.order_id,\n",
        "    c.customer_name,\n",
        "    p.product_name\n",
        "FROM Products p\n",
        "LEFT JOIN Orders o ON p.order_id = o.order_id\n",
        "LEFT JOIN Customers c ON o.customer_id = c.customer_id;"
      ],
      "metadata": {
        "id": "QsKgtOlV-FGR"
      }
    },
    {
      "cell_type": "markdown",
      "source": [
        "9.Write a query to find the total sales amount for each product using an INNER JOIN and the SUM() function.\n",
        "```sql\n",
        "select p.product_id,p.product,sum(amount) as total from employee.products p inner join employee.sales s on p.product_id = s.product_id group by p.product_id;"
      ],
      "metadata": {
        "id": "deo42L-O07CI"
      }
    },
    {
      "cell_type": "markdown",
      "source": [
        "10. Write a query to display the order_id, customer_name, and the quantity of products ordered by each\n",
        "customer using an INNER JOIN between all three tables.\n",
        "```sql\n",
        "SELECT\n",
        "    o.order_id,\n",
        "    c.customer_name,\n",
        "    od.quantity\n",
        "FROM Orders o\n",
        "INNER JOIN Customers c ON o.customer_id = c.customer_id\n",
        "INNER JOIN Order_Details od ON o.order_id = od.order_id;"
      ],
      "metadata": {
        "id": "jaSq3YTW230c"
      }
    },
    {
      "cell_type": "markdown",
      "source": [
        "11) 1-Identify the primary keys and foreign keys in maven movies db. Discuss the differences\n",
        "```sql\n",
        " Primary Keys:\n",
        "actor(actor_id), address(address_id), category(category_id), city(city_id),\n",
        "country(country_id), customer(customer_id), film(film_id), inventory(inventory_id),\n",
        "language(language_id), payment(payment_id), rental(rental_id), staff(staff_id), store(store_id)\n",
        "\n",
        "Foreign Keys:\n",
        "city(country_id), address(city_id), customer(address_id, store_id), staff(address_id, store_id),\n",
        "store(address_id), film(language_id), film_actor(film_id, actor_id), film_category(film_id, category_id),\n",
        "inventory(film_id, store_id), rental(inventory_id, customer_id, staff_id), payment(customer_id, staff_id, rental_id)\n",
        "\n",
        "Difference:\n",
        "PRIMARY KEY uniquely identifies each record (unique, not null)\n",
        "FOREIGN KEY references a primary key in another table (can be duplicated, can be null)\n"
      ],
      "metadata": {
        "id": "3lPQkH4x-glZ"
      }
    },
    {
      "cell_type": "markdown",
      "source": [
        "12)List all details of actors\n",
        "```sql\n",
        "select * from actor;\n"
      ],
      "metadata": {
        "id": "2Aw4gsvmaLYJ"
      }
    },
    {
      "cell_type": "markdown",
      "source": [
        "13) List all customer information from DB\n",
        "- SELECT * FROM customer;\n"
      ],
      "metadata": {
        "id": "E9T4gVh3bmug"
      }
    },
    {
      "cell_type": "markdown",
      "source": [
        "14)List different countries.\n",
        "- SELECT DISTINCT country FROM country;\n",
        "\n",
        "15)Display all active customers\n",
        "- SELECT * FROM customer WHERE active = 1;\n",
        "\n",
        "16)List all rental IDs for customer with ID 1\n",
        "- SELECT rental_id FROM rental WHERE customer_id = 1;\n",
        "\n",
        "17)Display all films whose rental duration is greater than 5\n",
        "- SELECT * FROM film WHERE rental_duration > 5;\n",
        "\n",
        "18) Count films with replacement cost > 15 and < 20\n",
        "```sql\n",
        "SELECT COUNT(*) AS total_films\n",
        "FROM film\n",
        "WHERE replacement_cost > 15 AND replacement_cost < 20;\n",
        "```\n",
        "19)Count of unique actor first names\n",
        "- SELECT COUNT(DISTINCT first_name) AS unique_first_names\n",
        "FROM actor;\n",
        "\n",
        "20)Display first 10 customers\n",
        "- SELECT * FROM customer LIMIT 10 offset 0;\n",
        "\n",
        "21)First 3 customers whose first name starts with 'B'\n",
        "```sql\n",
        "SELECT * FROM customer\n",
        "WHERE first_name LIKE 'B%'\n",
        "LIMIT 3;\n",
        "```\n",
        "\n",
        "22)First 5 movies rated ‘G’\n",
        "```sql\n",
        "SELECT title\n",
        "FROM film\n",
        "WHERE rating = 'G'\n",
        "LIMIT 5;\n",
        "```\n",
        "23)Customers whose first name starts with 'A'\n",
        "- SELECT * FROM customer WHERE first_name LIKE 'A%';\n",
        "\n",
        "24)Customers whose first name ends with 'A'\n",
        "- SELECT * FROM customer\n",
        "WHERE first_name LIKE '%A';\n",
        "\n",
        "25) First 4 cities which start and end with ‘A’\n",
        "```sql\n",
        "SELECT city\n",
        "FROM city\n",
        "WHERE city LIKE 'A%A'\n",
        "LIMIT 4;\n",
        "```\n",
        "\n",
        "26)Customers whose first name contains 'NI'\n",
        "- SELECT * FROM customer\n",
        "WHERE first_name LIKE '%NI%';\n",
        "27)Customers whose first name has 'R' in second position\n",
        "- SELECT * FROM customer\n",
        "WHERE first_name LIKE '_R%';\n",
        "\n",
        "28)Customers whose first name starts with 'A' and has ≥ 5 characters\n",
        "```sql\n",
        "SELECT * FROM customer\n",
        "WHERE first_name LIKE 'A%'\n",
        "AND LENGTH(first_name) >= 5;\n",
        "```\n",
        "\n",
        "29)Customers whose first name starts with 'A' and ends with 'O'\n",
        "```sql\n",
        "SELECT * FROM customer\n",
        "WHERE first_name LIKE 'A%O';\n",
        "```\n",
        "\n",
        "30)Films rated ‘PG’ or ‘PG-13’\n",
        "```sql\n",
        "SELECT * FROM film\n",
        "WHERE rating IN ('PG', 'PG-13');\n",
        "```\n",
        "\n",
        "31)Films with length between 50 and 100\n",
        "```sql\n",
        "SELECT * FROM film\n",
        "WHERE length BETWEEN 50 AND 100;\n",
        "```\n",
        "\n",
        "32)Top 50 actors\n",
        "- SELECT * FROM actor LIMIT 50;\n",
        "\n",
        "33)Distinct film IDs from inventory\n",
        "- SELECT DISTINCT film_id FROM inventory;"
      ],
      "metadata": {
        "id": "212PjVqUb4cf"
      }
    },
    {
      "cell_type": "markdown",
      "source": [
        "**Functions**\n",
        "\n",
        "1)Retrieve the total number of rentals made in the Sakila database.\n",
        "Hint: Use the COUNT() function.\n",
        "\n",
        "- SELECT COUNT(*) AS total_rentals\n",
        "FROM rental;\n",
        "\n",
        "2)Question 2:\n",
        "\n",
        "Find the average rental duration (in days) of movies rented.\n",
        "Hint: Use the AVG() function.\n",
        "\n",
        "- SELECT AVG(rental_duration) AS avg_rental_duration\n",
        "FROM film;\n",
        "\n",
        "3)Question 3:\n",
        "\n",
        "Display the first name and last name of customers in uppercase.\n",
        "Hint: Use the UPPER() function.\n",
        "```sql\n",
        "SELECT\n",
        "    UPPER(first_name) AS first_name_upper,\n",
        "    UPPER(last_name) AS last_name_upper\n",
        "FROM customer;\n",
        "```\n",
        "\n",
        "4)Question 4:\n",
        "\n",
        "Extract the month from the rental date and display it with rental ID.\n",
        "Hint: Use the MONTH() function.\n",
        "```sql\n",
        "SELECT\n",
        "    rental_id,\n",
        "    MONTH(rental_date) AS rental_month\n",
        "FROM rental;\n",
        "```"
      ],
      "metadata": {
        "id": "T6frTz8keSGa"
      }
    },
    {
      "cell_type": "markdown",
      "source": [
        "**Group** **By**\n",
        "\n",
        "1)Question 6:\n",
        "\n",
        "Find the total revenue generated by each store.\n",
        "Hint: Combine SUM() and GROUP BY.\n",
        "💡 payment table has amount and staff_id → staff table has store_id.\n",
        "```sql\n",
        "SELECT\n",
        "    s.store_id,\n",
        "    SUM(p.amount) AS total_revenue\n",
        "FROM payment p\n",
        "JOIN staff s ON p.staff_id = s.staff_id\n",
        "GROUP BY s.store_id;\n",
        "```\n"
      ],
      "metadata": {
        "id": "NO81iKsyfaWv"
      }
    }
  ]
}