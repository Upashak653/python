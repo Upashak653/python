{
  "cells": [
    {
      "cell_type": "markdown",
      "source": [
        "1) What is the difference between interpreted and compiled languages\n",
        " - Interpreted languages execute code line by line (e.g., Python), while compiled languages translate the entire code into machine code before execution (e.g., C++). Interpreted is slower but more flexible, compiled is faster but less portable."
      ],
      "metadata": {
        "id": "GmYCqDeKhXCw"
      }
    },
    {
      "cell_type": "markdown",
      "source": [
        "2) What is exception handling in Python\n",
        "- It allows you to handle runtime errors gracefully without crashing the program, using try, except, else, and finally blocks."
      ],
      "metadata": {
        "id": "Wen7U-oHhe8g"
      }
    },
    {
      "cell_type": "markdown",
      "source": [
        "3) What is the purpose of the finally block in exception handling\n",
        "- The finally block always executes, whether an exception occurs or not—commonly used to release resources like files or connections."
      ],
      "metadata": {
        "id": "5yjXSXvzhhvo"
      }
    },
    {
      "cell_type": "markdown",
      "source": [
        "4) What is logging in Python\n",
        "- Logging provides a way to track events, errors, and program execution flow, useful for debugging and monitoring."
      ],
      "metadata": {
        "id": "ZRH1Qq0Rhjqa"
      }
    },
    {
      "cell_type": "markdown",
      "source": [
        "5) What is the significance of the __del__ method in Python\n",
        "- It’s a destructor method automatically called when an object is garbage-collected, mainly for cleanup tasks."
      ],
      "metadata": {
        "id": "0MYxySbDhltJ"
      }
    },
    {
      "cell_type": "markdown",
      "source": [
        "6) What is the difference between import and from ... import in Python\n",
        "- import module imports the entire module, accessed with prefix (module.func). from module import func imports specific functions/classes directly."
      ],
      "metadata": {
        "id": "YO4gFz6GhnaH"
      }
    },
    {
      "cell_type": "markdown",
      "source": [
        "7) How can you handle multiple exceptions in Python\n",
        "- Use multiple except blocks for different exceptions or a single block with a tuple of exceptions."
      ],
      "metadata": {
        "id": "COGeADYwhpow"
      }
    },
    {
      "cell_type": "markdown",
      "source": [
        "8) What is the purpose of the with statement when handling files in Python\n",
        "-  The with statement simplifies resource management by automatically closing files after usage."
      ],
      "metadata": {
        "id": "NovIoas8hrVF"
      }
    },
    {
      "cell_type": "markdown",
      "source": [
        "9) What is the difference between multithreading and multiprocessing\n",
        "- Multithreading runs multiple threads in a single process (shared memory, lightweight). Multiprocessing runs multiple processes (separate memory, more powerful for CPU-bound tasks)."
      ],
      "metadata": {
        "id": "oPajuTZ4htNN"
      }
    },
    {
      "cell_type": "markdown",
      "source": [
        "10) What are the advantages of using logging in a program\n",
        "- Provides persistent records, flexible severity levels, and helps in debugging without using print()."
      ],
      "metadata": {
        "id": "k4WstTBIhu6E"
      }
    },
    {
      "cell_type": "markdown",
      "source": [
        "11) What is memory management in Python\n",
        "- Python manages memory using private heaps, garbage collection, and reference counting."
      ],
      "metadata": {
        "id": "_Oyrt7Yahw5M"
      }
    },
    {
      "cell_type": "markdown",
      "source": [
        "12) What are the basic steps involved in exception handling in Python\n",
        "- Write code in try block, catch exceptions with except, optionally use else for success, and finally for cleanup.\n"
      ],
      "metadata": {
        "id": "UmkkF7foh01M"
      }
    },
    {
      "cell_type": "markdown",
      "source": [
        "13) Why is memory management important in Python\n",
        "- Prevents memory leaks, improves performance, and ensures efficient resource usage"
      ],
      "metadata": {
        "id": "MCQeurx-h2ij"
      }
    },
    {
      "cell_type": "markdown",
      "source": [
        "14) What is the role of try and except in exception handling\n",
        "- try encloses risky code, except handles the exception if it occurs."
      ],
      "metadata": {
        "id": "UQyXW4pyh4Ns"
      }
    },
    {
      "cell_type": "markdown",
      "source": [
        "15) How does Python's garbage collection system work\n",
        "- Uses reference counting and a cyclic garbage collector to reclaim unused memory.\n"
      ],
      "metadata": {
        "id": "w2om6NKdh6Fy"
      }
    },
    {
      "cell_type": "markdown",
      "source": [
        "16) What is the purpose of the else block in exception handling\n",
        "- Runs only if no exception occurs in the try block."
      ],
      "metadata": {
        "id": "CRyL5jASh8Va"
      }
    },
    {
      "cell_type": "markdown",
      "source": [
        "17) What are the common logging levels in Python\n",
        "- DEBUG, INFO, WARNING, ERROR, CRITICAL."
      ],
      "metadata": {
        "id": "NOUB1IqbiAqt"
      }
    },
    {
      "cell_type": "markdown",
      "source": [
        "18) What is the difference between os.fork() and multiprocessing in Python\n",
        "- os.fork() is Unix-only and creates a child process by duplicating the current one. multiprocessing is cross-platform and provides a high-level API."
      ],
      "metadata": {
        "id": "LUIcl4DGiCMH"
      }
    },
    {
      "cell_type": "markdown",
      "source": [
        "19) What is the importance of closing a file in Python\n",
        "- Ensures changes are saved and frees system resources."
      ],
      "metadata": {
        "id": "THcS9oEQiDlb"
      }
    },
    {
      "cell_type": "markdown",
      "source": [
        "20) What is the difference between file.read() and file.readline() in Python\n",
        "- read() reads the entire file (or n chars), while readline() reads one line at a time."
      ],
      "metadata": {
        "id": "aZTeVYtWiFNG"
      }
    },
    {
      "cell_type": "markdown",
      "source": [
        "21)  What is the logging module in Python used for\n",
        "- Standard Python module for tracking program execution with logs of varying levels."
      ],
      "metadata": {
        "id": "FWLtW1zViHHR"
      }
    },
    {
      "cell_type": "markdown",
      "source": [
        "22) What is the os module in Python used for in file handling\n",
        "- Provides functions for interacting with the operating system, e.g., file paths, creating/removing directories.\n"
      ],
      "metadata": {
        "id": "-Imd5dKsiIq1"
      }
    },
    {
      "cell_type": "markdown",
      "source": [
        "23) What are the challenges associated with memory management in Python\n",
        "- Handling cyclic references, avoiding memory leaks, and balancing performance with automatic collection."
      ],
      "metadata": {
        "id": "VwOYW3xqiKF0"
      }
    },
    {
      "cell_type": "markdown",
      "source": [
        "24) How do you raise an exception manually in Python\n",
        "- Use raise Exception(\"message\") to trigger an error intentionally."
      ],
      "metadata": {
        "id": "_ZesO3pviLud"
      }
    },
    {
      "cell_type": "markdown",
      "source": [
        "25) Why is it important to use multithreading in certain applications?\n",
        "- Useful for I/O-bound tasks (like network requests) to improve responsiveness and concurrency."
      ],
      "metadata": {
        "id": "jQ_0i1ofiNaL"
      }
    },
    {
      "cell_type": "code",
      "source": [
        "#1) How can you open a file for writing in Python and write a string to it?\n",
        "with open(\"test.txt\",\"w\") as f:\n",
        "  f.write(\"hello world\")"
      ],
      "metadata": {
        "id": "dWjiKgQzkkcj"
      },
      "execution_count": null,
      "outputs": []
    },
    {
      "cell_type": "code",
      "source": [
        "#2)Write a Python program to read the contents of a file and print each line\n",
        "with open(\"test.txt\",\"r\") as f:\n",
        "  print(f.read())\n",
        "  f.seek(0)\n",
        "  print(f.readline())\n",
        "  for line in f:\n",
        "    print(line.strip())"
      ],
      "metadata": {
        "id": "7S9YDloGkw3O",
        "outputId": "d24e9242-2eaa-4370-aabb-300163be4d04",
        "colab": {
          "base_uri": "https://localhost:8080/"
        }
      },
      "execution_count": null,
      "outputs": [
        {
          "output_type": "stream",
          "name": "stdout",
          "text": [
            "hello world\n",
            "hello world\n"
          ]
        }
      ]
    },
    {
      "cell_type": "code",
      "source": [
        "#3)How would you handle a case where the file doesn't exist while trying to open it for reading\n",
        "try:\n",
        "  with open(\"nofile.txt\", \"r\") as f:\n",
        "        print(f.read())\n",
        "except Exception as e:\n",
        "  print(e)"
      ],
      "metadata": {
        "id": "elzMHI-Hk3_V",
        "outputId": "f8e4aaf3-dc6d-48b1-90c2-8e7455705a9b",
        "colab": {
          "base_uri": "https://localhost:8080/"
        }
      },
      "execution_count": null,
      "outputs": [
        {
          "output_type": "stream",
          "name": "stdout",
          "text": [
            "[Errno 2] No such file or directory: 'nofile.txt'\n"
          ]
        }
      ]
    },
    {
      "cell_type": "code",
      "source": [
        "#4)Write a Python script that reads from one file and writes its content to another file?\n",
        "with open('test.txt','r') as f1:\n",
        "  with open('test2.txt','w') as f2:\n",
        "    f2.write(f1.read())\n",
        "\n"
      ],
      "metadata": {
        "id": "rOo2Je7rlpZv"
      },
      "execution_count": null,
      "outputs": []
    },
    {
      "cell_type": "code",
      "source": [
        "with open(\"test.txt\", \"r\") as src, open(\"test3.txt\", \"w\") as dest:\n",
        "    dest.write(src.read())"
      ],
      "metadata": {
        "id": "7TyhuVmql94C"
      },
      "execution_count": null,
      "outputs": []
    },
    {
      "cell_type": "code",
      "source": [
        "#5) How would you catch and handle division by zero error in Python\n",
        "try:\n",
        "  print(1/0)\n",
        "except ZeroDivisionError as e:\n",
        "  print(e)"
      ],
      "metadata": {
        "id": "ori6sgmxl1Pl",
        "outputId": "7a1bec52-0de7-471c-a62a-86b25453d1ce",
        "colab": {
          "base_uri": "https://localhost:8080/"
        }
      },
      "execution_count": null,
      "outputs": [
        {
          "output_type": "stream",
          "name": "stdout",
          "text": [
            "division by zero\n"
          ]
        }
      ]
    },
    {
      "cell_type": "code",
      "source": [
        "#6) Write a Python program that logs an error message to a log file when a division by zero exception occurs\n",
        "import logging\n",
        "logging.basicConfig(filename='errors.log',level=logging.DEBUG)\n",
        "\n",
        "try:\n",
        "  10/0\n",
        "except Exception as e:\n",
        "  logging.error(e)"
      ],
      "metadata": {
        "id": "sFvEk1OImLc6",
        "outputId": "49ebca1b-1bd4-4cf5-8d63-04953dcb186b",
        "colab": {
          "base_uri": "https://localhost:8080/"
        }
      },
      "execution_count": null,
      "outputs": [
        {
          "output_type": "stream",
          "name": "stderr",
          "text": [
            "ERROR:root:division by zero\n"
          ]
        }
      ]
    },
    {
      "cell_type": "code",
      "source": [
        "#7) How do you log information at different levels (INFO, ERROR, WARNING) in Python using the logging module?\n",
        "import logging\n",
        "logging.basicConfig(filename='errors.log',level=logging.DEBUG)\n",
        "logging.info(\"this is info\")\n",
        "logging.error(\"this is error\")\n",
        "logging.warning(\"this is warning\")"
      ],
      "metadata": {
        "id": "mrDgcCjnmqHg",
        "outputId": "a184413d-49d4-4b96-985f-cf77e6c4a28e",
        "colab": {
          "base_uri": "https://localhost:8080/"
        }
      },
      "execution_count": null,
      "outputs": [
        {
          "output_type": "stream",
          "name": "stderr",
          "text": [
            "ERROR:root:this is error\n",
            "WARNING:root:this is warning\n"
          ]
        }
      ]
    },
    {
      "cell_type": "code",
      "source": [
        " #8)Write a program to handle a file opening error using exception handling\n",
        "try:\n",
        "    with open(\"data.txt\", \"r\") as f:\n",
        "        print(f.read())\n",
        "except IOError:\n",
        "    print(\"Error opening file.\")"
      ],
      "metadata": {
        "id": "mLmBrNwvm-Uh",
        "outputId": "acc5163f-3841-4a97-d6b1-5faddcbf86d7",
        "colab": {
          "base_uri": "https://localhost:8080/"
        }
      },
      "execution_count": null,
      "outputs": [
        {
          "output_type": "stream",
          "name": "stdout",
          "text": [
            "Error opening file.\n"
          ]
        }
      ]
    },
    {
      "cell_type": "code",
      "source": [
        "#9)How can you read a file line by line and store its content in a list in Python\n",
        "with open(\"test.txt\", \"r\") as f:\n",
        "    lines = f.readlines()\n",
        "print(lines)"
      ],
      "metadata": {
        "id": "7y9-8KF8nKtv",
        "outputId": "8d14dc8a-1dfe-45bc-e5f4-c07fd47336c9",
        "colab": {
          "base_uri": "https://localhost:8080/"
        }
      },
      "execution_count": null,
      "outputs": [
        {
          "output_type": "stream",
          "name": "stdout",
          "text": [
            "['hello world']\n"
          ]
        }
      ]
    },
    {
      "cell_type": "code",
      "source": [
        "#10)How can you append data to an existing file in Python\n",
        "with open('test.txt','a')as f:\n",
        "  f.write(\"\\n Hello from the coder\")"
      ],
      "metadata": {
        "id": "ZTnsyVx9nOVC"
      },
      "execution_count": null,
      "outputs": []
    },
    {
      "cell_type": "code",
      "source": [
        "#11)Write a Python program that uses a try-except block to handle an error when attempting to access a dictionary key that doesn't exist\n",
        "data = {'a': 1, 'b': 2, 'c': 3}\n",
        "try:\n",
        "  print(data['age'])\n",
        "except KeyError:\n",
        "  print(\"Key does not exist\")\n"
      ],
      "metadata": {
        "id": "h60EMyplnRa3",
        "outputId": "dbd2e99d-ee35-4f10-edc0-975afc2ee0e9",
        "colab": {
          "base_uri": "https://localhost:8080/"
        }
      },
      "execution_count": null,
      "outputs": [
        {
          "output_type": "stream",
          "name": "stdout",
          "text": [
            "Key does not exist\n"
          ]
        }
      ]
    },
    {
      "cell_type": "code",
      "source": [
        "#12) Write a program that demonstrates using multiple except blocks to handle different types of exceptions\n",
        "try:\n",
        "    x = int(\"abc\")\n",
        "except ValueError:\n",
        "    print(\"Invalid value\")\n",
        "except ZeroDivisionError:\n",
        "    print(\"Division by zero\")"
      ],
      "metadata": {
        "id": "H3MZPE4xnVds",
        "outputId": "9b9d1eb5-fdce-4c7f-cd88-4b56985306a9",
        "colab": {
          "base_uri": "https://localhost:8080/"
        }
      },
      "execution_count": null,
      "outputs": [
        {
          "output_type": "stream",
          "name": "stdout",
          "text": [
            "Invalid value\n"
          ]
        }
      ]
    },
    {
      "cell_type": "code",
      "source": [
        "#13)How would you check if a file exists before attempting to read it in Python\n",
        "import os\n",
        "if os.path.exists('example.txt'):\n",
        "  print(\"File exists\")\n",
        "else:\n",
        "  print(\"File does not exist\")"
      ],
      "metadata": {
        "id": "TMuM9_nsnatd",
        "outputId": "ef92b154-49d3-4849-906f-50a7b2527fb9",
        "colab": {
          "base_uri": "https://localhost:8080/"
        }
      },
      "execution_count": null,
      "outputs": [
        {
          "output_type": "stream",
          "name": "stdout",
          "text": [
            "File does not exist\n"
          ]
        }
      ]
    },
    {
      "cell_type": "code",
      "source": [
        "#14)Write a program that uses the logging module to log both informational and error messages\n",
        "import logging\n",
        "logging.basicConfig(filename=\"app.log\", level=logging.INFO)\n",
        "\n",
        "logging.info(\"Program started\")\n",
        "try:\n",
        "    10 / 0\n",
        "except ZeroDivisionError:\n",
        "    logging.error(\"Division by zero error\")"
      ],
      "metadata": {
        "id": "LhkHWzTwndHr",
        "outputId": "98dc1239-8f2e-4623-9122-a0f54ab024ea",
        "colab": {
          "base_uri": "https://localhost:8080/"
        }
      },
      "execution_count": null,
      "outputs": [
        {
          "output_type": "stream",
          "name": "stderr",
          "text": [
            "ERROR:root:Division by zero error\n"
          ]
        }
      ]
    },
    {
      "cell_type": "code",
      "source": [
        "#15)Write a Python program that prints the content of a file and handles the case when the file is empty\n",
        "with open(\"test.txt\", \"r\") as f:\n",
        "    content = f.read()\n",
        "    if content:\n",
        "        print(content)\n",
        "    else:\n",
        "        print(\"File is empty\")"
      ],
      "metadata": {
        "id": "3-sLujUXngMC",
        "outputId": "8b7f6a18-8269-4129-bc22-e75151b4c236",
        "colab": {
          "base_uri": "https://localhost:8080/"
        }
      },
      "execution_count": null,
      "outputs": [
        {
          "output_type": "stream",
          "name": "stdout",
          "text": [
            "hello world\n",
            " Hello from the coder\n",
            " Hello from the coder\n",
            " Hello from the coder\n"
          ]
        }
      ]
    },
    {
      "cell_type": "code",
      "source": [
        "#16)Demonstrate how to use memory profiling to check the memory usage of a small program\n",
        "!pip install memory_profiler\n"
      ],
      "metadata": {
        "id": "bhyIjWN3niaF",
        "outputId": "f0038fd8-ba9a-4816-ba50-522d7ab0b37d",
        "colab": {
          "base_uri": "https://localhost:8080/"
        }
      },
      "execution_count": null,
      "outputs": [
        {
          "output_type": "stream",
          "name": "stdout",
          "text": [
            "Collecting memory_profiler\n",
            "  Downloading memory_profiler-0.61.0-py3-none-any.whl.metadata (20 kB)\n",
            "Requirement already satisfied: psutil in /usr/local/lib/python3.12/dist-packages (from memory_profiler) (5.9.5)\n",
            "Downloading memory_profiler-0.61.0-py3-none-any.whl (31 kB)\n",
            "Installing collected packages: memory_profiler\n",
            "Successfully installed memory_profiler-0.61.0\n"
          ]
        }
      ]
    },
    {
      "cell_type": "code",
      "source": [
        "from memory_profiler import profile\n",
        "\n",
        "@profile\n",
        "def my_func():\n",
        "    nums = [i for i in range(10000)]\n",
        "    return sum(nums)\n",
        "\n",
        "my_func()"
      ],
      "metadata": {
        "id": "e4JumZBuptMm",
        "outputId": "85ae27de-458e-4e1b-d2fc-2bf1685d952c",
        "colab": {
          "base_uri": "https://localhost:8080/"
        }
      },
      "execution_count": null,
      "outputs": [
        {
          "output_type": "stream",
          "name": "stdout",
          "text": [
            "ERROR: Could not find file /tmp/ipython-input-330462438.py\n"
          ]
        },
        {
          "output_type": "execute_result",
          "data": {
            "text/plain": [
              "49995000"
            ]
          },
          "metadata": {},
          "execution_count": 32
        }
      ]
    },
    {
      "cell_type": "code",
      "source": [
        "#17)Write a Python program to create and write a list of numbers to a file, one number per line\n",
        "with open('numbers.txt','w') as f:\n",
        "  for i in range(6):\n",
        "    f.write(str(i) + '\\n')"
      ],
      "metadata": {
        "id": "lZs6QX-3nlud"
      },
      "execution_count": null,
      "outputs": []
    },
    {
      "cell_type": "code",
      "source": [
        "#18) How would you implement a basic logging setup that logs to a file with rotation after 1MB\n",
        "import logging\n",
        "from logging.handlers import RotatingFileHandler\n",
        "\n",
        "handler = RotatingFileHandler(\"app.log\", maxBytes=1_000_000, backupCount=3)\n",
        "logging.basicConfig(handlers=[handler], level=logging.INFO)\n",
        "\n",
        "logging.info(\"This will rotate log after 1MB\")\n"
      ],
      "metadata": {
        "id": "0dBhtoNAnn3c"
      },
      "execution_count": null,
      "outputs": []
    },
    {
      "cell_type": "code",
      "source": [
        "#19)Write a program that handles both IndexError and KeyError using a try-except block\n",
        "try:\n",
        "    lst = [1, 2]\n",
        "    print(lst[5])\n",
        "    d = {}\n",
        "    print(d[\"x\"])\n",
        "except IndexError:\n",
        "    print(\"List index out of range\")\n",
        "except KeyError:\n",
        "    print(\"Key not found\")\n"
      ],
      "metadata": {
        "id": "fBooYwCrnqWe",
        "outputId": "3de9a75c-87fb-41ae-c134-04bae8bc31fe",
        "colab": {
          "base_uri": "https://localhost:8080/"
        }
      },
      "execution_count": null,
      "outputs": [
        {
          "output_type": "stream",
          "name": "stdout",
          "text": [
            "List index out of range\n"
          ]
        }
      ]
    },
    {
      "cell_type": "code",
      "source": [
        "#20)How would you open a file and read its contents using a context manager in Python\n",
        "with open(\"numbers.txt\", \"r\") as f:\n",
        "    print(f.read())"
      ],
      "metadata": {
        "id": "1cQN4iylnsbK",
        "outputId": "e4836e47-0b1a-44ce-f2b8-6acaaf658d04",
        "colab": {
          "base_uri": "https://localhost:8080/"
        }
      },
      "execution_count": null,
      "outputs": [
        {
          "output_type": "stream",
          "name": "stdout",
          "text": [
            "0\n",
            "1\n",
            "2\n",
            "3\n",
            "4\n",
            "5\n",
            "\n"
          ]
        }
      ]
    },
    {
      "cell_type": "code",
      "source": [
        "#21)Write a Python program that reads a file and prints the number of occurrences of a specific word\n",
        "word = \"Python\"\n",
        "with open(\"test3.txt\", \"r\") as f:\n",
        "    text = f.read()\n",
        "print(f\"Occurrences of {word}: {text.count(word)}\")"
      ],
      "metadata": {
        "id": "HJ46eN1SnuxK",
        "outputId": "4cfbef24-67df-4969-db55-a1a5c2c11aea",
        "colab": {
          "base_uri": "https://localhost:8080/"
        }
      },
      "execution_count": null,
      "outputs": [
        {
          "output_type": "stream",
          "name": "stdout",
          "text": [
            "Occurrences of Python: 0\n"
          ]
        }
      ]
    },
    {
      "cell_type": "code",
      "source": [
        "#22)How can you check if a file is empty before attempting to read its contents\n",
        "import os\n",
        "if os.path.getsize(\"test.txt\") == 0:\n",
        "    print(\"File is empty\")\n",
        "else:\n",
        "    print(\"File has content\")\n"
      ],
      "metadata": {
        "id": "TTNwrc1Pnw-p",
        "outputId": "a3bc4bf8-58b4-4ef7-f8e1-8832e4275f4c",
        "colab": {
          "base_uri": "https://localhost:8080/"
        }
      },
      "execution_count": null,
      "outputs": [
        {
          "output_type": "stream",
          "name": "stdout",
          "text": [
            "File has content\n"
          ]
        }
      ]
    },
    {
      "cell_type": "code",
      "source": [
        "#23)Write a Python program that writes to a log file when an error occurs during file handling.\n",
        "import logging\n",
        "logging.basicConfig(filename=\"file_errors.log\", level=logging.ERROR)\n",
        "\n",
        "try:\n",
        "    with open(\"test.txt\", \"r\") as f:\n",
        "        print(f.read())\n",
        "except Exception as e:\n",
        "    logging.error(\"File handling error: %s\", e)\n"
      ],
      "metadata": {
        "id": "QYSOAZwBnzOV",
        "outputId": "ca1f7a3f-db74-4799-a88b-9b898b2d1c42",
        "colab": {
          "base_uri": "https://localhost:8080/"
        }
      },
      "execution_count": null,
      "outputs": [
        {
          "output_type": "stream",
          "name": "stdout",
          "text": [
            "hello world\n",
            " Hello from the coder\n",
            " Hello from the coder\n",
            " Hello from the coder\n"
          ]
        }
      ]
    },
    {
      "cell_type": "code",
      "source": [],
      "metadata": {
        "id": "u2dPi9KXqnX8"
      },
      "execution_count": null,
      "outputs": []
    }
  ],
  "metadata": {
    "colab": {
      "provenance": []
    },
    "kernelspec": {
      "display_name": "Python 3",
      "name": "python3"
    }
  },
  "nbformat": 4,
  "nbformat_minor": 0
}