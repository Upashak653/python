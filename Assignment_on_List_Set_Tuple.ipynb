{
  "nbformat": 4,
  "nbformat_minor": 0,
  "metadata": {
    "colab": {
      "provenance": []
    },
    "kernelspec": {
      "name": "python3",
      "display_name": "Python 3"
    },
    "language_info": {
      "name": "python"
    }
  },
  "cells": [
    {
      "cell_type": "markdown",
      "source": [
        "1)What are data structures, and why are they important?\n",
        " - way of organising and storing data so that it can be accessed and manipulated efficiently\n",
        " - they are important for data manipulation , data storing in correct format and management of data"
      ],
      "metadata": {
        "id": "dljn__IqIkpM"
      }
    },
    {
      "cell_type": "markdown",
      "source": [
        "2)Explain the difference between mutable and immutable data types with examples?\n",
        "- Mutable data types → Can be changed in place after creation.Example=List,dictionary\n",
        "\n",
        "- Immutable data types → Cannot be changed once created; any “modification” actually creates a new object.Example=tuple,string\n",
        "\n"
      ],
      "metadata": {
        "id": "755Tv8yOI7ng"
      }
    },
    {
      "cell_type": "markdown",
      "source": [
        "3)What are the main differences between lists and tuples in Python?\n",
        "- list is mutabable data type with ordered collection of elements, Syntax = ['a','b',1]\n",
        "-tuple is immutable data type with ordered collection of elements, Syntax = (1,2,3)"
      ],
      "metadata": {
        "id": "7S-jgbRLJLHD"
      }
    },
    {
      "cell_type": "markdown",
      "source": [
        "4)Describe how dictionaries store data.\n",
        "- stores the data in key and value pairs\n",
        "- dict={'key':value}"
      ],
      "metadata": {
        "id": "VYTwmQR9J0i0"
      }
    },
    {
      "cell_type": "markdown",
      "source": [
        "5) Why might you use a set instead of a list in Python?\n",
        "- set is the data type which returns the unique elements . To get a unique set of elements we nned to use set"
      ],
      "metadata": {
        "id": "vKteA3GeKGUu"
      }
    },
    {
      "cell_type": "markdown",
      "source": [
        "6) What is a string in Python, and how is it different from a list?\n",
        "- immutable data type\n",
        "- in Python is a sequence of Unicode characters enclosed in single quotes ', double quotes \", or triple quotes ''' / \"\"\"."
      ],
      "metadata": {
        "id": "cq9RKmITKd71"
      }
    },
    {
      "cell_type": "markdown",
      "source": [
        "7)How do tuples ensure data integrity in Python?\n",
        "- by the characteistics of immutability ,prevents accidental modification, ensuring the stored data remains consistent."
      ],
      "metadata": {
        "id": "iE6bhehmKyes"
      }
    },
    {
      "cell_type": "markdown",
      "source": [
        "8) What is a hash table, and how does it relate to dictionaries in Python?\n",
        "- A hash table is a data structure that stores key–value pairs using a hash function to map keys to specific memory locations."
      ],
      "metadata": {
        "id": "FvOMYARHLJlC"
      }
    },
    {
      "cell_type": "markdown",
      "source": [
        "9)Can lists contain different data types in Python?\n",
        "- Yes it can.Because List is heterogeneous."
      ],
      "metadata": {
        "id": "s1Q39_tYLQFC"
      }
    },
    {
      "cell_type": "markdown",
      "source": [
        "10) Explain why strings are immutable in Python?\n",
        "- Strings are stored in memory in a way that reuses existing string objects (string interning)."
      ],
      "metadata": {
        "id": "r7Gv0SjILa9E"
      }
    },
    {
      "cell_type": "markdown",
      "source": [
        "11)What advantages do dictionaries offer over lists for certain tasks?\n",
        "- Fast lookups using keys (O(1) vs O(n) in lists).\n",
        "- Direct mapping between keys and values."
      ],
      "metadata": {
        "id": "JNlllK4iLpTr"
      }
    },
    {
      "cell_type": "markdown",
      "source": [
        "12)  Describe a scenario where using a tuple would be preferable over a list?\n",
        "- For managing Databases"
      ],
      "metadata": {
        "id": "dENRafbLL-0I"
      }
    },
    {
      "cell_type": "markdown",
      "source": [
        "13)How do sets handle duplicate values in Python?\n",
        "- Sets automatically remove duplicates.\n",
        "\n",
        "- When adding elements, Python checks the hash value; if an element already exists, it’s ignored."
      ],
      "metadata": {
        "id": "EavvCSMNMfmr"
      }
    },
    {
      "cell_type": "markdown",
      "source": [
        "14) How does the “in” keyword work differently for lists and dictionaries?\n",
        "- in list 'in' keyword checks if there the mentioned element is present or not\n",
        "- in dictionary 'in' keyword checks the key exists or not"
      ],
      "metadata": {
        "id": "7HAMJL-QMruQ"
      }
    },
    {
      "cell_type": "markdown",
      "source": [
        "15) Can you modify the elements of a tuple? Explain why or why not?\n",
        "- No , because tuples are immutable , but inside tuple if there is any list present then in that case we can update the list inside of a tuple."
      ],
      "metadata": {
        "id": "mmOf5MkrNFcq"
      }
    },
    {
      "cell_type": "markdown",
      "source": [
        "16) What is a nested dictionary, and give an example of its use case\n",
        "- inside of a dictionary there is another dictionary present which is called nested dictionary.\n",
        "- students = {\n",
        "    \"Alice\": {\"age\": 20, \"grade\": \"A\"},\n",
        "    \"Bob\": {\"age\": 22, \"grade\": \"B\"}\n",
        "}"
      ],
      "metadata": {
        "id": "CfxYZz8VNbuv"
      }
    },
    {
      "cell_type": "markdown",
      "source": [
        "17) Describe the time complexity of accessing elements in a dictionary.\n",
        "- Average case: O(1) (constant time) due to hash table lookup.\n",
        "\n",
        "- Worst case: O(n) (rare, occurs with many hash collisions)."
      ],
      "metadata": {
        "id": "6mNE3qYeNyF8"
      }
    },
    {
      "cell_type": "markdown",
      "source": [
        "18)In what situations are lists preferred over dictionaries?\n",
        "- When data is ordered and accessed by position.\n",
        "\n",
        "- When values don’t need unique identifiers (keys)."
      ],
      "metadata": {
        "id": "fswANg3RN-JY"
      }
    },
    {
      "cell_type": "markdown",
      "source": [
        "19)  Why are dictionaries considered unordered, and how does that affect data retrieval?\n",
        "- they retrieve data based on key and values\n"
      ],
      "metadata": {
        "id": "epGTKU3pOFsg"
      }
    },
    {
      "cell_type": "markdown",
      "source": [
        "20)Explain the difference between a list and a dictionary in terms of data retrieval.\n",
        "- list retireves data based on indexing,best for ordered collection\n",
        "- dictionary retireves data based on keys , best for key - value mappings"
      ],
      "metadata": {
        "id": "5D9Y9X5BOcHQ"
      }
    },
    {
      "cell_type": "code",
      "execution_count": 2,
      "metadata": {
        "colab": {
          "base_uri": "https://localhost:8080/"
        },
        "id": "6w4QJFzc96na",
        "outputId": "0b96b5df-a698-40c8-83a5-30196dc610bd"
      },
      "outputs": [
        {
          "output_type": "stream",
          "name": "stdout",
          "text": [
            "Upashak\n",
            "Upashak\n"
          ]
        }
      ],
      "source": [
        "#1 Write a code to create a string with your name and print it.\n",
        "name=input()\n",
        "print(name)"
      ]
    },
    {
      "cell_type": "code",
      "source": [
        "# Write a code to find the length of the string \"Hello World\".\n",
        "string=\"Hello World\"\n",
        "print(len(string))"
      ],
      "metadata": {
        "colab": {
          "base_uri": "https://localhost:8080/"
        },
        "id": "bSXm8hh098Ue",
        "outputId": "03906764-4a54-400e-dce7-d9b750ded1e8"
      },
      "execution_count": 3,
      "outputs": [
        {
          "output_type": "stream",
          "name": "stdout",
          "text": [
            "11\n"
          ]
        }
      ]
    },
    {
      "cell_type": "code",
      "source": [
        "#Write a code to slice the first 3 characters from the string \"Python Programming.\n",
        "string=\"Python Programming\"\n",
        "print(string[0:3])"
      ],
      "metadata": {
        "colab": {
          "base_uri": "https://localhost:8080/"
        },
        "id": "jQHMtcFxBxAx",
        "outputId": "efcab13b-3719-4f53-812d-aacb5222e17f"
      },
      "execution_count": 4,
      "outputs": [
        {
          "output_type": "stream",
          "name": "stdout",
          "text": [
            "Pyt\n"
          ]
        }
      ]
    },
    {
      "cell_type": "code",
      "source": [
        "# Write a code to convert the string \"hello\" to uppercase.\n",
        "a='hello'\n",
        "print(a.upper())"
      ],
      "metadata": {
        "colab": {
          "base_uri": "https://localhost:8080/"
        },
        "id": "uJJogQCoB0oG",
        "outputId": "13251c3b-ddd6-47c5-820a-da3cfcd1045e"
      },
      "execution_count": 5,
      "outputs": [
        {
          "output_type": "stream",
          "name": "stdout",
          "text": [
            "HELLO\n"
          ]
        }
      ]
    },
    {
      "cell_type": "code",
      "source": [
        "#Write a code to replace the word \"apple\" with \"orange\" in the string \"I like apple\".\n",
        "a='I like apple'\n",
        "print(a)\n",
        "a1=a.replace('apple','orange')\n",
        "print(a1)"
      ],
      "metadata": {
        "colab": {
          "base_uri": "https://localhost:8080/"
        },
        "id": "XY4VXEUoB-VG",
        "outputId": "c4e49816-9fbf-45fd-8147-1132717cd9b1"
      },
      "execution_count": 9,
      "outputs": [
        {
          "output_type": "stream",
          "name": "stdout",
          "text": [
            "I like apple\n",
            "I like orange\n"
          ]
        }
      ]
    },
    {
      "cell_type": "code",
      "source": [
        "#Write a code to create a list with numbers 1 to 5 and print it.\n",
        "list=[]\n",
        "for i in range(1,6):\n",
        "  list.append(i)\n",
        "print(list)"
      ],
      "metadata": {
        "colab": {
          "base_uri": "https://localhost:8080/"
        },
        "id": "e30IGpLkCI5A",
        "outputId": "927eb3e4-956f-429f-9f62-3f9717c59c7d"
      },
      "execution_count": 12,
      "outputs": [
        {
          "output_type": "stream",
          "name": "stdout",
          "text": [
            "[1, 2, 3, 4, 5]\n"
          ]
        }
      ]
    },
    {
      "cell_type": "code",
      "source": [
        "#Write a code to append the number 10 to the list [1, 2, 3, 4].\n",
        "li=[1,2,3,4]\n",
        "li.append(5)\n",
        "li"
      ],
      "metadata": {
        "colab": {
          "base_uri": "https://localhost:8080/"
        },
        "id": "txlCjOFlCaRv",
        "outputId": "f3145d45-4420-4b57-e9f0-aec2ca965d4a"
      },
      "execution_count": 13,
      "outputs": [
        {
          "output_type": "execute_result",
          "data": {
            "text/plain": [
              "[1, 2, 3, 4, 5]"
            ]
          },
          "metadata": {},
          "execution_count": 13
        }
      ]
    },
    {
      "cell_type": "code",
      "source": [
        "#Write a code to remove the number 3 from the list [1, 2, 3, 4, 5]\n",
        "li=[1,2,3,4,5]\n",
        "li.remove(3)\n",
        "li"
      ],
      "metadata": {
        "colab": {
          "base_uri": "https://localhost:8080/"
        },
        "id": "RjP3Ai0tCsm0",
        "outputId": "9a46d14f-c81a-4d2a-f098-fff9d92c98d2"
      },
      "execution_count": 15,
      "outputs": [
        {
          "output_type": "execute_result",
          "data": {
            "text/plain": [
              "[1, 2, 4, 5]"
            ]
          },
          "metadata": {},
          "execution_count": 15
        }
      ]
    },
    {
      "cell_type": "code",
      "source": [
        "#Write a code to access the second element in the list ['a', 'b', 'c', 'd'].\n",
        "li=[\"a\",\"b\",\"c\",\"d\"]\n",
        "li[1]"
      ],
      "metadata": {
        "colab": {
          "base_uri": "https://localhost:8080/",
          "height": 35
        },
        "id": "byCc8uySC109",
        "outputId": "1eb675f9-f4e0-4b1c-9594-bde9a2a333f8"
      },
      "execution_count": 16,
      "outputs": [
        {
          "output_type": "execute_result",
          "data": {
            "text/plain": [
              "'b'"
            ],
            "application/vnd.google.colaboratory.intrinsic+json": {
              "type": "string"
            }
          },
          "metadata": {},
          "execution_count": 16
        }
      ]
    },
    {
      "cell_type": "code",
      "source": [
        "#Write a code to reverse the list [10, 20, 30, 40, 50].\n",
        "li=[10,20,30,40,50]\n",
        "li[::-1]"
      ],
      "metadata": {
        "colab": {
          "base_uri": "https://localhost:8080/"
        },
        "id": "r8bJ0rO9DBW-",
        "outputId": "b4344fe5-8a40-4d3e-b34f-59c3ba192554"
      },
      "execution_count": 17,
      "outputs": [
        {
          "output_type": "execute_result",
          "data": {
            "text/plain": [
              "[50, 40, 30, 20, 10]"
            ]
          },
          "metadata": {},
          "execution_count": 17
        }
      ]
    },
    {
      "cell_type": "code",
      "source": [
        "#Write a code to create a tuple with the elements 100, 200, 300 and print it.\n",
        "tup=(100,200,300)\n",
        "print(tup)"
      ],
      "metadata": {
        "colab": {
          "base_uri": "https://localhost:8080/"
        },
        "id": "7AbTh3FZDOEQ",
        "outputId": "f87044d8-3e32-4850-f467-3798f13ebf7e"
      },
      "execution_count": 18,
      "outputs": [
        {
          "output_type": "stream",
          "name": "stdout",
          "text": [
            "(100, 200, 300)\n"
          ]
        }
      ]
    },
    {
      "cell_type": "code",
      "source": [
        "#Write a code to access the second-to-last element of the tuple ('red', 'green', 'blue', 'yellow')\n",
        "tuple = ('red', 'green', 'blue', 'yellow')\n",
        "print(tuple[-2])"
      ],
      "metadata": {
        "colab": {
          "base_uri": "https://localhost:8080/"
        },
        "id": "TuWiZXM5DVZt",
        "outputId": "aad1adbe-a1f3-41aa-affd-b93fa07586a0"
      },
      "execution_count": 19,
      "outputs": [
        {
          "output_type": "stream",
          "name": "stdout",
          "text": [
            "blue\n"
          ]
        }
      ]
    },
    {
      "cell_type": "code",
      "source": [
        "#Write a code to find the minimum number in the tuple (10, 20, 5, 15).\n",
        "tuple=(10,20,5,15)\n",
        "print(min(tuple))"
      ],
      "metadata": {
        "colab": {
          "base_uri": "https://localhost:8080/"
        },
        "id": "h5_RiX_CDbRo",
        "outputId": "2605bdba-c31e-4c92-ad03-2f86fd535c78"
      },
      "execution_count": 20,
      "outputs": [
        {
          "output_type": "stream",
          "name": "stdout",
          "text": [
            "5\n"
          ]
        }
      ]
    },
    {
      "cell_type": "code",
      "source": [
        "# Write a code to find the index of the element \"cat\" in the tuple ('dog', 'cat', 'rabbit').\n",
        "tuple = ('dog', 'cat', 'rabbit')\n",
        "print(tuple.index('cat'))"
      ],
      "metadata": {
        "colab": {
          "base_uri": "https://localhost:8080/"
        },
        "id": "pFh093lADnq9",
        "outputId": "2dacc412-d98e-475b-90f3-5a75a8a15ace"
      },
      "execution_count": 21,
      "outputs": [
        {
          "output_type": "stream",
          "name": "stdout",
          "text": [
            "1\n"
          ]
        }
      ]
    },
    {
      "cell_type": "code",
      "source": [
        "#Write a code to create a tuple containing three different fruits and check if \"kiwi\" is in it\n",
        "tuple = ('apple', 'banana', 'orange')\n",
        "print('kiwi' in tuple)\n",
        "tuple1 = ('apple', 'banana', 'kiwi')\n",
        "print('kiwi' in tuple1)"
      ],
      "metadata": {
        "colab": {
          "base_uri": "https://localhost:8080/"
        },
        "id": "qpzldxtMDwZM",
        "outputId": "c3267dff-11b9-4127-8003-58879985ca86"
      },
      "execution_count": 23,
      "outputs": [
        {
          "output_type": "stream",
          "name": "stdout",
          "text": [
            "False\n",
            "True\n"
          ]
        }
      ]
    },
    {
      "cell_type": "code",
      "source": [
        "#Write a code to create a set with the elements 'a', 'b', 'c' and print it.\n",
        "set = {'a','b','c'}\n",
        "print(set)"
      ],
      "metadata": {
        "colab": {
          "base_uri": "https://localhost:8080/"
        },
        "id": "Ga04Gg7GD2NW",
        "outputId": "9ca1c398-cb43-4c0b-a400-43c7b294a02c"
      },
      "execution_count": 27,
      "outputs": [
        {
          "output_type": "stream",
          "name": "stdout",
          "text": [
            "{'c', 'b', 'a'}\n"
          ]
        }
      ]
    },
    {
      "cell_type": "code",
      "source": [
        "#Write a code to clear all elements from the set {1, 2, 3, 4, 5}.\n",
        "set={1,2,3,4,5}\n",
        "set.clear()\n",
        "set"
      ],
      "metadata": {
        "colab": {
          "base_uri": "https://localhost:8080/"
        },
        "id": "Fz5gKD1qENQL",
        "outputId": "80285146-149e-49e9-9b0d-b8e540d42869"
      },
      "execution_count": 30,
      "outputs": [
        {
          "output_type": "execute_result",
          "data": {
            "text/plain": [
              "set()"
            ]
          },
          "metadata": {},
          "execution_count": 30
        }
      ]
    },
    {
      "cell_type": "code",
      "source": [
        "#Write a code to remove the element 4 from the set {1, 2, 3, 4}.\n",
        "set={1,2,3,4}\n",
        "set.remove(4)\n",
        "set"
      ],
      "metadata": {
        "colab": {
          "base_uri": "https://localhost:8080/"
        },
        "id": "n6dkX7InEYyh",
        "outputId": "57b00c67-7279-4774-8959-bafef419bcd6"
      },
      "execution_count": 32,
      "outputs": [
        {
          "output_type": "execute_result",
          "data": {
            "text/plain": [
              "{1, 2, 3}"
            ]
          },
          "metadata": {},
          "execution_count": 32
        }
      ]
    },
    {
      "cell_type": "code",
      "source": [
        "#Write a code to find the union of two sets {1, 2, 3} and {3, 4, 5}.\n",
        "s1={1,2,3}\n",
        "s2={3,4,5}\n",
        "s=s1.union(s2)\n",
        "s"
      ],
      "metadata": {
        "colab": {
          "base_uri": "https://localhost:8080/"
        },
        "id": "UWSz_HN4Ei8u",
        "outputId": "1ec4dc63-57ee-407d-8c6c-ae1bc2c8f99f"
      },
      "execution_count": 37,
      "outputs": [
        {
          "output_type": "execute_result",
          "data": {
            "text/plain": [
              "{1, 2, 3, 4, 5}"
            ]
          },
          "metadata": {},
          "execution_count": 37
        }
      ]
    },
    {
      "cell_type": "code",
      "source": [
        "#Write a code to find the intersection of two sets {1, 2, 3} and {2, 3, 4}.\n",
        "s1={1,2,3}\n",
        "s2={2,3,4}\n",
        "s=s1.intersection(s2)\n",
        "print(s)"
      ],
      "metadata": {
        "colab": {
          "base_uri": "https://localhost:8080/"
        },
        "id": "iIdjPp5XEtiG",
        "outputId": "d6e939a2-5eee-471e-fa3f-0ff9d8571ae7"
      },
      "execution_count": 38,
      "outputs": [
        {
          "output_type": "stream",
          "name": "stdout",
          "text": [
            "{2, 3}\n"
          ]
        }
      ]
    },
    {
      "cell_type": "code",
      "source": [
        "#Write a code to create a dictionary with the keys \"name\", \"age\", and \"city\", and print it.\n",
        "dict={\"name\":2,\"age\":3,\"city\":6}\n",
        "print(dict)"
      ],
      "metadata": {
        "colab": {
          "base_uri": "https://localhost:8080/"
        },
        "id": "2WRmWMU5FICu",
        "outputId": "b4b219eb-2af9-44dc-d769-3050fcae2d22"
      },
      "execution_count": 40,
      "outputs": [
        {
          "output_type": "stream",
          "name": "stdout",
          "text": [
            "{'name': 2, 'age': 3, 'city': 6}\n"
          ]
        }
      ]
    },
    {
      "cell_type": "code",
      "source": [
        "# Write a code to add a new key-value pair \"country\": \"USA\" to the dictionary {'name': 'John', 'age': 25}.\n",
        "dict={'name': 'John', 'age': 25}\n",
        "print(dict)\n",
        "dict['country']='USA'\n",
        "print(dict)\n"
      ],
      "metadata": {
        "colab": {
          "base_uri": "https://localhost:8080/"
        },
        "id": "EacmPbu_FSvV",
        "outputId": "b2a0a94e-0eb0-422b-fc43-b58b99923ad1"
      },
      "execution_count": 42,
      "outputs": [
        {
          "output_type": "stream",
          "name": "stdout",
          "text": [
            "{'name': 'John', 'age': 25}\n",
            "{'name': 'John', 'age': 25, 'country': 'USA'}\n"
          ]
        }
      ]
    },
    {
      "cell_type": "code",
      "source": [
        "# Write a code to access the value associated with the key \"name\" in the dictionary {'name': 'Alice', 'age': 30}\n",
        "dict={'name':'Alice','age':30}\n",
        "dict.get('name')"
      ],
      "metadata": {
        "colab": {
          "base_uri": "https://localhost:8080/",
          "height": 35
        },
        "id": "ZbP4NE8lFanG",
        "outputId": "c8bc24ff-9934-4fbf-b330-0baa3ca134d8"
      },
      "execution_count": 43,
      "outputs": [
        {
          "output_type": "execute_result",
          "data": {
            "text/plain": [
              "'Alice'"
            ],
            "application/vnd.google.colaboratory.intrinsic+json": {
              "type": "string"
            }
          },
          "metadata": {},
          "execution_count": 43
        }
      ]
    },
    {
      "cell_type": "code",
      "source": [
        "#Write a code to remove the key \"age\" from the dictionary {'name': 'Bob', 'age': 22, 'city': 'New York'}.\n",
        "dict={'name': 'Bob', 'age': 22, 'city': 'New York'}\n",
        "print(dict)\n",
        "dict.pop('age')\n",
        "print(dict)\n"
      ],
      "metadata": {
        "colab": {
          "base_uri": "https://localhost:8080/"
        },
        "id": "blMAlDO4Ft1p",
        "outputId": "fd482c55-bde8-40c7-fd92-d62ffdd6c00a"
      },
      "execution_count": 52,
      "outputs": [
        {
          "output_type": "stream",
          "name": "stdout",
          "text": [
            "{'name': 'Bob', 'age': 22, 'city': 'New York'}\n",
            "{'name': 'Bob', 'city': 'New York'}\n"
          ]
        }
      ]
    },
    {
      "cell_type": "code",
      "source": [
        "# Write a code to check if the key \"city\" exists in the dictionary {'name': 'Alice', 'city': 'Paris'}.\n",
        "dict={'name': 'Alice', 'city': 'Paris'}\n",
        "if 'city' in dict:\n",
        "    print(True)\n",
        "else:\n",
        "    print(False)"
      ],
      "metadata": {
        "colab": {
          "base_uri": "https://localhost:8080/"
        },
        "id": "86HD2KJbFx2k",
        "outputId": "9bf7c921-7390-4967-a5f1-133989d046a0"
      },
      "execution_count": 53,
      "outputs": [
        {
          "output_type": "stream",
          "name": "stdout",
          "text": [
            "True\n"
          ]
        }
      ]
    },
    {
      "cell_type": "code",
      "source": [
        "# Write a code to create a list, a tuple, and a dictionary, and print them all.\n",
        "li=[1,2,3+4j]\n",
        "print(li)\n",
        "tuple=(1,8,6)\n",
        "print(tuple)\n",
        "dict={'name': 'Alice', 'city': 'Paris'}\n",
        "print(dict)"
      ],
      "metadata": {
        "colab": {
          "base_uri": "https://localhost:8080/"
        },
        "id": "EsgW-bCaFy1M",
        "outputId": "1d5ae55b-6c02-466d-d1c5-dae6ea70c248"
      },
      "execution_count": 54,
      "outputs": [
        {
          "output_type": "stream",
          "name": "stdout",
          "text": [
            "[1, 2, (3+4j)]\n",
            "(1, 8, 6)\n",
            "{'name': 'Alice', 'city': 'Paris'}\n"
          ]
        }
      ]
    },
    {
      "cell_type": "code",
      "source": [
        "#Write a code to create a list of 5 random numbers between 1 and 100, sort it in ascending order, and print the result(replaced)\n",
        "import numpy as np\n",
        "random_numbers = np.random.randint(1, 101, 5)\n",
        "print(random_numbers)\n",
        "sorted_numbers = np.sort(random_numbers)\n",
        "print(sorted_numbers)"
      ],
      "metadata": {
        "colab": {
          "base_uri": "https://localhost:8080/"
        },
        "id": "CURNSwI9F0ir",
        "outputId": "b4bbb70e-b43b-4d3e-8c4a-dc768327adc6"
      },
      "execution_count": 56,
      "outputs": [
        {
          "output_type": "stream",
          "name": "stdout",
          "text": [
            "[13 71 57 39 78]\n",
            "[13 39 57 71 78]\n"
          ]
        }
      ]
    },
    {
      "cell_type": "code",
      "source": [
        "#Write a code to create a list with strings and print the element at the third index.\n",
        "li=['Abcd','Bcde','Great','Hell']\n",
        "print(li[3])"
      ],
      "metadata": {
        "colab": {
          "base_uri": "https://localhost:8080/"
        },
        "id": "3YSq2_g3F56S",
        "outputId": "eac68bc5-89aa-4076-a590-50f820a7a7ac"
      },
      "execution_count": 59,
      "outputs": [
        {
          "output_type": "stream",
          "name": "stdout",
          "text": [
            "Hell\n"
          ]
        }
      ]
    },
    {
      "cell_type": "code",
      "source": [
        "# Write a code to combine two dictionaries into one and print the result.\n",
        "dict1 = {\"a\": 1, \"b\": 2}\n",
        "dict2 = {\"c\": 3, \"d\": 4}\n",
        "combined_dict = {**dict1, **dict2}\n",
        "print(combined_dict)"
      ],
      "metadata": {
        "colab": {
          "base_uri": "https://localhost:8080/"
        },
        "id": "Jgpm8202F7jN",
        "outputId": "1b6e1352-bdbb-4eba-cfc1-8cf285b717c5"
      },
      "execution_count": 66,
      "outputs": [
        {
          "output_type": "stream",
          "name": "stdout",
          "text": [
            "{'a': 1, 'b': 2, 'c': 3, 'd': 4}\n"
          ]
        }
      ]
    },
    {
      "cell_type": "code",
      "source": [
        "#Write a code to convert a list of strings into a set.\n",
        "li = [\"apple\", \"banana\", \"cherry\", \"apple\"]\n",
        "string_set = set(li)\n",
        "print(string_set)\n"
      ],
      "metadata": {
        "colab": {
          "base_uri": "https://localhost:8080/"
        },
        "id": "5-C79u-bF9Ja",
        "outputId": "8a71c531-42bd-45e1-ffd0-de7fcdc38a77"
      },
      "execution_count": 73,
      "outputs": [
        {
          "output_type": "stream",
          "name": "stdout",
          "text": [
            "{'cherry', 'apple', 'banana'}\n"
          ]
        }
      ]
    }
  ]
}