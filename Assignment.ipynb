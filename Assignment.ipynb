{
  "nbformat": 4,
  "nbformat_minor": 0,
  "metadata": {
    "colab": {
      "provenance": []
    },
    "kernelspec": {
      "name": "python3",
      "display_name": "Python 3"
    },
    "language_info": {
      "name": "python"
    }
  },
  "cells": [
    {
      "cell_type": "markdown",
      "source": [
        "1)What is Python, and why is it popular\n",
        "- Python is a easy high level versetile interpreted open source language with large number of libraries.\n",
        "-Popularity:1)Easy 2)large community 3)versetile 4)used by many tech giants companies 5)can solve large problems with minimal lines of code 6)scalability 7)Integration capabilities\n",
        ""
      ],
      "metadata": {
        "id": "JGmagAIxU9pN"
      }
    },
    {
      "cell_type": "markdown",
      "source": [
        "2) What is an interpreter in Python\n",
        "- An interpreter a translationg tool which reads and translatesor executes the code line by line for low level language which machine can understand"
      ],
      "metadata": {
        "id": "tUkupUNDWqZL"
      }
    },
    {
      "cell_type": "markdown",
      "source": [
        "3)What are pre-defined keywords in Python?\n",
        "- For every programming language there are some syntax rules to follow.Pre-define keywords are reserved keywords with specific meanings helps us to do specific workks.These  keywords are already defined by the community.Can't use them as a variable"
      ],
      "metadata": {
        "id": "yYSRR0nnXdIp"
      }
    },
    {
      "cell_type": "markdown",
      "source": [
        "4)Can keywords be used as variable names?\n",
        "- No,because keywords are reserved for particular purpose."
      ],
      "metadata": {
        "id": "qAJ4-O1lYhFd"
      }
    },
    {
      "cell_type": "markdown",
      "source": [
        "5) What is mutability in Python?\n",
        "- mutiability is the ability of changing or assigning new items after creation .List,Dictionary is mutable ."
      ],
      "metadata": {
        "id": "EOY_FLnkYxa4"
      }
    },
    {
      "cell_type": "markdown",
      "source": [
        "6) Why are lists mutable, but tuples are immutable?\n",
        "-  Tuple is designed in a way that they are immutable whereas List can store datas dynamically.\n"
      ],
      "metadata": {
        "id": "blQLjhfJZaqa"
      }
    },
    {
      "cell_type": "markdown",
      "source": [
        "7) What is the difference between “==” and “is” operators in Python?\n",
        "- '==' is a comparison operator and compares between two or more varibles whereas 'is' operator is a identity operator which checks in the memory and check 2 variables are pointing the same or not"
      ],
      "metadata": {
        "id": "GIb2bqMuZyDD"
      }
    },
    {
      "cell_type": "markdown",
      "source": [
        "8)What are logical operators in Python?\n",
        "- one kind of operator by which we can perform logical operations like (AND,OR,NOT) among variabls."
      ],
      "metadata": {
        "id": "j1-CD0qMaXui"
      }
    },
    {
      "cell_type": "markdown",
      "source": [
        "9)What is type casting in Python?\n",
        "- is a process by which we can convert variables into desired datatypes and perform operations that requires specific types."
      ],
      "metadata": {
        "id": "Xvia0_f0at_Y"
      }
    },
    {
      "cell_type": "markdown",
      "source": [
        "10)What is the difference between implicit and explicit type casting?\n",
        "- Implicit: Python changes the type for you.\n",
        "- Explicit: You use functions like int(), float(), or str() to change the type yourself."
      ],
      "metadata": {
        "id": "_pL0A4YQbMBT"
      }
    },
    {
      "cell_type": "markdown",
      "source": [
        "11)What is the purpose of conditional statements in Python?\n",
        "- use to check the condition of performing execution and make decisions by allowing different block of codes to execute based on their condition.If condition is true perform task A otherwise task B."
      ],
      "metadata": {
        "id": "ZopfD4XFbc_t"
      }
    },
    {
      "cell_type": "markdown",
      "source": [
        "12)How does the elif statement work\n",
        "- Python checks conditions from top to bottom.As soon as it finds a True condition, it runs that block and skips the rest.If none of the if or elif conditions are true, the else block (if present) runs.\n",
        "- used for multiple decision scenarios."
      ],
      "metadata": {
        "id": "XVVVrK61cG4j"
      }
    },
    {
      "cell_type": "markdown",
      "source": [
        "13)What is the difference between for and while loops?\n",
        "- for=>iterate over a sequence of elements\n",
        "-while=>A while loop in Python is used to repeatedly execute a block of code as long as a given condition is True"
      ],
      "metadata": {
        "id": "7yK9faw3cYV2"
      }
    },
    {
      "cell_type": "markdown",
      "source": [
        "14) Describe a scenario where a while loop is more suitable than a for loop.\n",
        "- it is useful when how many times do you need to execute the same code repeatedly"
      ],
      "metadata": {
        "id": "hU9YKFU4c1mI"
      }
    },
    {
      "cell_type": "code",
      "execution_count": 2,
      "metadata": {
        "colab": {
          "base_uri": "https://localhost:8080/"
        },
        "id": "6YgraGfGK8as",
        "outputId": "fdb3023f-76de-4fb5-bcac-573b7148952f"
      },
      "outputs": [
        {
          "output_type": "stream",
          "name": "stdout",
          "text": [
            "Hello, World!\n"
          ]
        }
      ],
      "source": [
        "#1)Write a Python program to print \"Hello, World!\n",
        "print(\"Hello, World!\")"
      ]
    },
    {
      "cell_type": "code",
      "source": [
        "#2)Write a Python program that displays your name and age.\n",
        "age=int(input())\n",
        "name=input()\n",
        "print(\"My age is\",age,\"and my name is\",name)\n"
      ],
      "metadata": {
        "colab": {
          "base_uri": "https://localhost:8080/"
        },
        "id": "AnVQEFi8LYJB",
        "outputId": "996ab155-85a9-4f6d-c3ce-b4cd15f738bc"
      },
      "execution_count": 8,
      "outputs": [
        {
          "output_type": "stream",
          "name": "stdout",
          "text": [
            "21\n",
            "Upashak\n",
            "My age is 21 and my name is Upashak\n"
          ]
        }
      ]
    },
    {
      "cell_type": "code",
      "source": [
        "#3)Write code to print all the pre-defined keywords in Python using the keyword library\n",
        "help('keywords')"
      ],
      "metadata": {
        "colab": {
          "base_uri": "https://localhost:8080/"
        },
        "id": "lkWMP8jdLqbf",
        "outputId": "029d43aa-0886-468f-d451-34dcc37a3f4e"
      },
      "execution_count": 9,
      "outputs": [
        {
          "output_type": "stream",
          "name": "stdout",
          "text": [
            "\n",
            "Here is a list of the Python keywords.  Enter any keyword to get more help.\n",
            "\n",
            "False               class               from                or\n",
            "None                continue            global              pass\n",
            "True                def                 if                  raise\n",
            "and                 del                 import              return\n",
            "as                  elif                in                  try\n",
            "assert              else                is                  while\n",
            "async               except              lambda              with\n",
            "await               finally             nonlocal            yield\n",
            "break               for                 not                 \n",
            "\n"
          ]
        }
      ]
    },
    {
      "cell_type": "code",
      "source": [
        "#4)Write a program that checks if a given word is a Python keyword.\n",
        "a=input()\n",
        "import keyword\n",
        "if keyword.iskeyword(a):\n",
        "    print(a,\"is a keyword\")\n",
        "else:\n",
        "    print(a,\"is not a keyword\")"
      ],
      "metadata": {
        "colab": {
          "base_uri": "https://localhost:8080/"
        },
        "id": "vEPPvBkPMIjE",
        "outputId": "72fc4eeb-0a8b-4c16-aff3-e67a9ae2e4af"
      },
      "execution_count": 10,
      "outputs": [
        {
          "output_type": "stream",
          "name": "stdout",
          "text": [
            "while\n",
            "while is a keyword\n"
          ]
        }
      ]
    },
    {
      "cell_type": "code",
      "source": [
        "#5)Create a list and tuple in Python, and demonstrate how attempting to change an element works differently for each.\n",
        "li=[1,2,\"abcd\"]\n",
        "tuple=(1,2,\"abcdef\")\n",
        "li.append(5)\n",
        "li"
      ],
      "metadata": {
        "colab": {
          "base_uri": "https://localhost:8080/"
        },
        "id": "u8BcCQbyMTYE",
        "outputId": "8127a001-7fe0-4289-e112-a84defca0d9b"
      },
      "execution_count": 14,
      "outputs": [
        {
          "output_type": "execute_result",
          "data": {
            "text/plain": [
              "[1, 2, 'abcd', 5]"
            ]
          },
          "metadata": {},
          "execution_count": 14
        }
      ]
    },
    {
      "cell_type": "code",
      "source": [
        "tuple=(1,2,\"abcdef\")\n",
        "tuple[0]=5"
      ],
      "metadata": {
        "colab": {
          "base_uri": "https://localhost:8080/",
          "height": 162
        },
        "id": "wfnAa60oMkq-",
        "outputId": "c402fe6c-3f65-4d24-ad1a-0f73942002ea"
      },
      "execution_count": 18,
      "outputs": [
        {
          "output_type": "error",
          "ename": "TypeError",
          "evalue": "'tuple' object does not support item assignment",
          "traceback": [
            "\u001b[0;31m---------------------------------------------------------------------------\u001b[0m",
            "\u001b[0;31mTypeError\u001b[0m                                 Traceback (most recent call last)",
            "\u001b[0;32m/tmp/ipython-input-261699065.py\u001b[0m in \u001b[0;36m<cell line: 0>\u001b[0;34m()\u001b[0m\n\u001b[1;32m      1\u001b[0m \u001b[0mtuple\u001b[0m\u001b[0;34m=\u001b[0m\u001b[0;34m(\u001b[0m\u001b[0;36m1\u001b[0m\u001b[0;34m,\u001b[0m\u001b[0;36m2\u001b[0m\u001b[0;34m,\u001b[0m\u001b[0;34m\"abcdef\"\u001b[0m\u001b[0;34m)\u001b[0m\u001b[0;34m\u001b[0m\u001b[0;34m\u001b[0m\u001b[0m\n\u001b[0;32m----> 2\u001b[0;31m \u001b[0mtuple\u001b[0m\u001b[0;34m[\u001b[0m\u001b[0;36m0\u001b[0m\u001b[0;34m]\u001b[0m\u001b[0;34m=\u001b[0m\u001b[0;36m5\u001b[0m\u001b[0;34m\u001b[0m\u001b[0;34m\u001b[0m\u001b[0m\n\u001b[0m",
            "\u001b[0;31mTypeError\u001b[0m: 'tuple' object does not support item assignment"
          ]
        }
      ]
    },
    {
      "cell_type": "code",
      "source": [
        "#6)Write a function to demonstrate the behavior of mutable and immutable arguments.\n",
        "def item_assignment(a,b):\n",
        "  a.append(8)\n",
        "  b = (7,) + b[1:]\n",
        "  return a,b\n",
        "a1=[1,2,10]\n",
        "b1=(1,2,3)\n",
        "print(item_assignment(a1,b1))\n"
      ],
      "metadata": {
        "colab": {
          "base_uri": "https://localhost:8080/"
        },
        "id": "nb4HoNeZM1ec",
        "outputId": "6ee1b654-4661-4afd-fcf3-9554677011b4"
      },
      "execution_count": 30,
      "outputs": [
        {
          "output_type": "stream",
          "name": "stdout",
          "text": [
            "([1, 2, 10, 8], (7, 2, 3))\n"
          ]
        }
      ]
    },
    {
      "cell_type": "code",
      "source": [
        "#7)Write a program that performs basic arithmetic operations on two user-input numbers.\n",
        "a=int(input())\n",
        "b=int(input())\n",
        "print(\"Addition=\",a+b)\n",
        "print(\"Subtraction=\",a-b)\n",
        "print(\"Multiplication=\",a*b)\n",
        "print(\"Division=\",a//b)"
      ],
      "metadata": {
        "colab": {
          "base_uri": "https://localhost:8080/"
        },
        "id": "JQ9-ryhSOHxP",
        "outputId": "71e87435-a352-461e-f927-e26ebcfbc568"
      },
      "execution_count": 32,
      "outputs": [
        {
          "output_type": "stream",
          "name": "stdout",
          "text": [
            "2\n",
            "1\n",
            "Addition= 3\n",
            "Subtraction= 1\n",
            "Multiplication= 2\n",
            "Division= 2\n"
          ]
        }
      ]
    },
    {
      "cell_type": "code",
      "source": [
        "#8) Write a program to demonstrate the use of logical operators\n",
        "a=5\n",
        "b=7\n",
        "if a<b and a>0:\n",
        "  print(b)"
      ],
      "metadata": {
        "colab": {
          "base_uri": "https://localhost:8080/"
        },
        "id": "BSy4ggA2POM-",
        "outputId": "156e1b4e-817f-4225-bac6-cb91f9d07060"
      },
      "execution_count": 37,
      "outputs": [
        {
          "output_type": "stream",
          "name": "stdout",
          "text": [
            "7\n"
          ]
        }
      ]
    },
    {
      "cell_type": "code",
      "source": [
        "#9)Write a Python program to convert user input from string to integer, float, and boolean types.\n",
        "a=input()\n",
        "b=int(a)\n",
        "c=float(a)\n",
        "d=bool(a)\n",
        "print(b,c,d)\n"
      ],
      "metadata": {
        "colab": {
          "base_uri": "https://localhost:8080/"
        },
        "id": "NiYcZ0FgPg7v",
        "outputId": "fb36cc81-9ebc-4658-c06c-a46c597fbaa7"
      },
      "execution_count": 38,
      "outputs": [
        {
          "output_type": "stream",
          "name": "stdout",
          "text": [
            "6\n",
            "6 6.0 True\n"
          ]
        }
      ]
    },
    {
      "cell_type": "code",
      "source": [
        "#10) Write code to demonstrate type casting with list elements.\n",
        "li=[1,2,3,\"5\"]\n",
        "li2=[]\n",
        "li3=[]\n",
        "for i in li:\n",
        "  li2.append(float(i))\n",
        "  li3.append(str(i))\n",
        "print(li2,li3)"
      ],
      "metadata": {
        "colab": {
          "base_uri": "https://localhost:8080/"
        },
        "id": "rS4cgpz2P9dW",
        "outputId": "15901c6b-ae5d-4f9d-bcfd-25d149267803"
      },
      "execution_count": 41,
      "outputs": [
        {
          "output_type": "stream",
          "name": "stdout",
          "text": [
            "[1.0, 2.0, 3.0, 5.0] ['1', '2', '3', '5']\n"
          ]
        }
      ]
    },
    {
      "cell_type": "code",
      "source": [
        "#11) Write a program that checks if a number is positive, negative, or zero.\n",
        "a=int(input())\n",
        "if a>0:\n",
        "  print(\"+ve\")\n",
        "elif a==0:\n",
        "  print(\"zero\")\n",
        "else:\n",
        "  print(\"-ve\")"
      ],
      "metadata": {
        "colab": {
          "base_uri": "https://localhost:8080/"
        },
        "id": "yssuReXnQXbk",
        "outputId": "25f71c8b-0f2d-409f-a565-98f572ce845f"
      },
      "execution_count": 42,
      "outputs": [
        {
          "output_type": "stream",
          "name": "stdout",
          "text": [
            "-15\n",
            "-ve\n"
          ]
        }
      ]
    },
    {
      "cell_type": "code",
      "source": [
        "#12)Write a for loop to print numbers from 1 to 10.\n",
        "for i in range(1,11):\n",
        "  print(i,end=\" \")\n",
        "print(\".\")"
      ],
      "metadata": {
        "colab": {
          "base_uri": "https://localhost:8080/"
        },
        "id": "xa20ffdnQ8Pu",
        "outputId": "ee0b8cfe-1a5b-4d04-f6cc-ee26464f39d3"
      },
      "execution_count": 46,
      "outputs": [
        {
          "output_type": "stream",
          "name": "stdout",
          "text": [
            "1 2 3 4 5 6 7 8 9 10 .\n"
          ]
        }
      ]
    },
    {
      "cell_type": "code",
      "source": [
        "#13) Write a Python program to find the sum of all even numbers between 1 and 50\n",
        "s=0\n",
        "for i in range(1,51):\n",
        "  if i%2==0:\n",
        "    s=i+s\n",
        "print(s)"
      ],
      "metadata": {
        "colab": {
          "base_uri": "https://localhost:8080/"
        },
        "id": "kfESJ5cPRMh_",
        "outputId": "223e3ef5-bf07-40f3-ba6f-c08748cab91f"
      },
      "execution_count": 52,
      "outputs": [
        {
          "output_type": "stream",
          "name": "stdout",
          "text": [
            "650\n"
          ]
        }
      ]
    },
    {
      "cell_type": "code",
      "source": [
        "#14) Write a program to reverse a string using a while loop.\n",
        "a=input()\n",
        "i=0\n",
        "print(\"Reversed :\")\n",
        "while i<len(a):\n",
        "  print(a[-(i+1)],end=\"\")\n",
        "  i+=1"
      ],
      "metadata": {
        "colab": {
          "base_uri": "https://localhost:8080/"
        },
        "id": "E55vRj12Rcvn",
        "outputId": "7b1d1011-3574-4c6f-d581-43ba2daf4e2c"
      },
      "execution_count": 68,
      "outputs": [
        {
          "output_type": "stream",
          "name": "stdout",
          "text": [
            "abcdefghi\n",
            "Reversed :\n",
            "ihgfedcba"
          ]
        }
      ]
    },
    {
      "cell_type": "code",
      "source": [
        "#15)Write a Python program to calculate the factorial of a number provided by the user using a while loop.\n",
        "a = int(input())\n",
        "p = 1\n",
        "for i in range(a, 0, -1):\n",
        "    print(i)\n",
        "    p *= i\n",
        "\n",
        "print(\"Product is:\", p)\n"
      ],
      "metadata": {
        "colab": {
          "base_uri": "https://localhost:8080/"
        },
        "id": "Swok8pvmSNTX",
        "outputId": "2c790b87-daed-49d7-94e6-ae2023a377e8"
      },
      "execution_count": 78,
      "outputs": [
        {
          "output_type": "stream",
          "name": "stdout",
          "text": [
            "6\n",
            "6\n",
            "5\n",
            "4\n",
            "3\n",
            "2\n",
            "1\n",
            "Product is: 720\n"
          ]
        }
      ]
    }
  ]
}